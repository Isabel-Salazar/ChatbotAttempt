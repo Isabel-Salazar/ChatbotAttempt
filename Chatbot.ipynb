{
 "cells": [
  {
   "cell_type": "code",
   "execution_count": 1,
   "id": "422c3f1f-f1e8-4b0a-930a-bd3bc7b59090",
   "metadata": {},
   "outputs": [
    {
     "name": "stdout",
     "output_type": "stream",
     "text": [
      "Defaulting to user installation because normal site-packages is not writeable\n",
      "Requirement already satisfied: chainlit in /home/isa/.local/lib/python3.10/site-packages (1.0.506)\n",
      "Requirement already satisfied: aiofiles<24.0.0,>=23.1.0 in /home/isa/.local/lib/python3.10/site-packages (from chainlit) (23.2.1)\n",
      "Requirement already satisfied: asyncer<0.0.3,>=0.0.2 in /home/isa/.local/lib/python3.10/site-packages (from chainlit) (0.0.2)\n",
      "Requirement already satisfied: click<9.0.0,>=8.1.3 in /home/isa/.local/lib/python3.10/site-packages (from chainlit) (8.1.7)\n",
      "Requirement already satisfied: dataclasses_json<0.6.0,>=0.5.7 in /home/isa/.local/lib/python3.10/site-packages (from chainlit) (0.5.14)\n",
      "Requirement already satisfied: fastapi<0.111.0,>=0.110.1 in /home/isa/.local/lib/python3.10/site-packages (from chainlit) (0.110.3)\n",
      "Requirement already satisfied: fastapi-socketio<0.0.11,>=0.0.10 in /home/isa/.local/lib/python3.10/site-packages (from chainlit) (0.0.10)\n",
      "Requirement already satisfied: filetype<2.0.0,>=1.2.0 in /home/isa/.local/lib/python3.10/site-packages (from chainlit) (1.2.0)\n",
      "Requirement already satisfied: httpx>=0.23.0 in /home/isa/.local/lib/python3.10/site-packages (from chainlit) (0.27.0)\n",
      "Requirement already satisfied: lazify<0.5.0,>=0.4.0 in /home/isa/.local/lib/python3.10/site-packages (from chainlit) (0.4.0)\n",
      "Requirement already satisfied: literalai==0.0.509 in /home/isa/.local/lib/python3.10/site-packages (from chainlit) (0.0.509)\n",
      "Requirement already satisfied: nest-asyncio<2.0.0,>=1.5.6 in /home/isa/.local/lib/python3.10/site-packages (from chainlit) (1.6.0)\n",
      "Requirement already satisfied: packaging<24.0,>=23.1 in /home/isa/.local/lib/python3.10/site-packages (from chainlit) (23.2)\n",
      "Requirement already satisfied: pydantic<3,>=1 in /home/isa/.local/lib/python3.10/site-packages (from chainlit) (2.7.1)\n",
      "Requirement already satisfied: pyjwt<3.0.0,>=2.8.0 in /home/isa/.local/lib/python3.10/site-packages (from chainlit) (2.8.0)\n",
      "Requirement already satisfied: python-dotenv<2.0.0,>=1.0.0 in /home/isa/.local/lib/python3.10/site-packages (from chainlit) (1.0.1)\n",
      "Requirement already satisfied: python-graphql-client<0.5.0,>=0.4.3 in /home/isa/.local/lib/python3.10/site-packages (from chainlit) (0.4.3)\n",
      "Requirement already satisfied: python-multipart<0.0.10,>=0.0.9 in /home/isa/.local/lib/python3.10/site-packages (from chainlit) (0.0.9)\n",
      "Requirement already satisfied: starlette<0.38.0,>=0.37.2 in /home/isa/.local/lib/python3.10/site-packages (from chainlit) (0.37.2)\n",
      "Requirement already satisfied: syncer<3.0.0,>=2.0.3 in /home/isa/.local/lib/python3.10/site-packages (from chainlit) (2.0.3)\n",
      "Requirement already satisfied: tomli<3.0.0,>=2.0.1 in /home/isa/.local/lib/python3.10/site-packages (from chainlit) (2.0.1)\n",
      "Requirement already satisfied: uptrace<2.0.0,>=1.22.0 in /home/isa/.local/lib/python3.10/site-packages (from chainlit) (1.24.0)\n",
      "Requirement already satisfied: uvicorn<0.26.0,>=0.25.0 in /home/isa/.local/lib/python3.10/site-packages (from chainlit) (0.25.0)\n",
      "Requirement already satisfied: watchfiles<0.21.0,>=0.20.0 in /home/isa/.local/lib/python3.10/site-packages (from chainlit) (0.20.0)\n",
      "Requirement already satisfied: chevron>=0.14.0 in /home/isa/.local/lib/python3.10/site-packages (from literalai==0.0.509->chainlit) (0.14.0)\n",
      "Requirement already satisfied: anyio<4.0.0,>=3.4.0 in /home/isa/.local/lib/python3.10/site-packages (from asyncer<0.0.3,>=0.0.2->chainlit) (3.7.1)\n",
      "Requirement already satisfied: marshmallow<4.0.0,>=3.18.0 in /home/isa/.local/lib/python3.10/site-packages (from dataclasses_json<0.6.0,>=0.5.7->chainlit) (3.21.2)\n",
      "Requirement already satisfied: typing-inspect<1,>=0.4.0 in /home/isa/.local/lib/python3.10/site-packages (from dataclasses_json<0.6.0,>=0.5.7->chainlit) (0.9.0)\n",
      "Requirement already satisfied: typing-extensions>=4.8.0 in /home/isa/.local/lib/python3.10/site-packages (from fastapi<0.111.0,>=0.110.1->chainlit) (4.11.0)\n",
      "Requirement already satisfied: python-socketio>=4.6.0 in /home/isa/.local/lib/python3.10/site-packages (from fastapi-socketio<0.0.11,>=0.0.10->chainlit) (5.11.2)\n",
      "Requirement already satisfied: certifi in /usr/lib/python3/dist-packages (from httpx>=0.23.0->chainlit) (2020.6.20)\n",
      "Requirement already satisfied: httpcore==1.* in /home/isa/.local/lib/python3.10/site-packages (from httpx>=0.23.0->chainlit) (1.0.5)\n",
      "Requirement already satisfied: idna in /usr/lib/python3/dist-packages (from httpx>=0.23.0->chainlit) (3.3)\n",
      "Requirement already satisfied: sniffio in /home/isa/.local/lib/python3.10/site-packages (from httpx>=0.23.0->chainlit) (1.3.1)\n",
      "Requirement already satisfied: h11<0.15,>=0.13 in /home/isa/.local/lib/python3.10/site-packages (from httpcore==1.*->httpx>=0.23.0->chainlit) (0.14.0)\n",
      "Requirement already satisfied: annotated-types>=0.4.0 in /home/isa/.local/lib/python3.10/site-packages (from pydantic<3,>=1->chainlit) (0.6.0)\n",
      "Requirement already satisfied: pydantic-core==2.18.2 in /home/isa/.local/lib/python3.10/site-packages (from pydantic<3,>=1->chainlit) (2.18.2)\n",
      "Requirement already satisfied: aiohttp~=3.0 in /home/isa/.local/lib/python3.10/site-packages (from python-graphql-client<0.5.0,>=0.4.3->chainlit) (3.9.5)\n",
      "Requirement already satisfied: requests~=2.0 in /home/isa/.local/lib/python3.10/site-packages (from python-graphql-client<0.5.0,>=0.4.3->chainlit) (2.31.0)\n",
      "Requirement already satisfied: websockets>=5.0 in /home/isa/.local/lib/python3.10/site-packages (from python-graphql-client<0.5.0,>=0.4.3->chainlit) (12.0)\n",
      "Requirement already satisfied: opentelemetry-api~=1.24 in /home/isa/.local/lib/python3.10/site-packages (from uptrace<2.0.0,>=1.22.0->chainlit) (1.24.0)\n",
      "Requirement already satisfied: opentelemetry-exporter-otlp~=1.24 in /home/isa/.local/lib/python3.10/site-packages (from uptrace<2.0.0,>=1.22.0->chainlit) (1.24.0)\n",
      "Requirement already satisfied: opentelemetry-instrumentation~=0.45b0 in /home/isa/.local/lib/python3.10/site-packages (from uptrace<2.0.0,>=1.22.0->chainlit) (0.45b0)\n",
      "Requirement already satisfied: opentelemetry-sdk~=1.24 in /home/isa/.local/lib/python3.10/site-packages (from uptrace<2.0.0,>=1.22.0->chainlit) (1.24.0)\n",
      "Requirement already satisfied: aiosignal>=1.1.2 in /home/isa/.local/lib/python3.10/site-packages (from aiohttp~=3.0->python-graphql-client<0.5.0,>=0.4.3->chainlit) (1.3.1)\n",
      "Requirement already satisfied: attrs>=17.3.0 in /home/isa/.local/lib/python3.10/site-packages (from aiohttp~=3.0->python-graphql-client<0.5.0,>=0.4.3->chainlit) (23.2.0)\n",
      "Requirement already satisfied: frozenlist>=1.1.1 in /home/isa/.local/lib/python3.10/site-packages (from aiohttp~=3.0->python-graphql-client<0.5.0,>=0.4.3->chainlit) (1.4.1)\n",
      "Requirement already satisfied: multidict<7.0,>=4.5 in /home/isa/.local/lib/python3.10/site-packages (from aiohttp~=3.0->python-graphql-client<0.5.0,>=0.4.3->chainlit) (6.0.5)\n",
      "Requirement already satisfied: yarl<2.0,>=1.0 in /home/isa/.local/lib/python3.10/site-packages (from aiohttp~=3.0->python-graphql-client<0.5.0,>=0.4.3->chainlit) (1.9.4)\n",
      "Requirement already satisfied: async-timeout<5.0,>=4.0 in /home/isa/.local/lib/python3.10/site-packages (from aiohttp~=3.0->python-graphql-client<0.5.0,>=0.4.3->chainlit) (4.0.3)\n",
      "Requirement already satisfied: exceptiongroup in /home/isa/.local/lib/python3.10/site-packages (from anyio<4.0.0,>=3.4.0->asyncer<0.0.3,>=0.0.2->chainlit) (1.2.1)\n",
      "Requirement already satisfied: deprecated>=1.2.6 in /home/isa/.local/lib/python3.10/site-packages (from opentelemetry-api~=1.24->uptrace<2.0.0,>=1.22.0->chainlit) (1.2.14)\n",
      "Requirement already satisfied: importlib-metadata<=7.0,>=6.0 in /home/isa/.local/lib/python3.10/site-packages (from opentelemetry-api~=1.24->uptrace<2.0.0,>=1.22.0->chainlit) (7.0.0)\n",
      "Requirement already satisfied: opentelemetry-exporter-otlp-proto-grpc==1.24.0 in /home/isa/.local/lib/python3.10/site-packages (from opentelemetry-exporter-otlp~=1.24->uptrace<2.0.0,>=1.22.0->chainlit) (1.24.0)\n",
      "Requirement already satisfied: opentelemetry-exporter-otlp-proto-http==1.24.0 in /home/isa/.local/lib/python3.10/site-packages (from opentelemetry-exporter-otlp~=1.24->uptrace<2.0.0,>=1.22.0->chainlit) (1.24.0)\n",
      "Requirement already satisfied: googleapis-common-protos~=1.52 in /home/isa/.local/lib/python3.10/site-packages (from opentelemetry-exporter-otlp-proto-grpc==1.24.0->opentelemetry-exporter-otlp~=1.24->uptrace<2.0.0,>=1.22.0->chainlit) (1.63.0)\n",
      "Requirement already satisfied: grpcio<2.0.0,>=1.0.0 in /home/isa/.local/lib/python3.10/site-packages (from opentelemetry-exporter-otlp-proto-grpc==1.24.0->opentelemetry-exporter-otlp~=1.24->uptrace<2.0.0,>=1.22.0->chainlit) (1.63.0)\n",
      "Requirement already satisfied: opentelemetry-exporter-otlp-proto-common==1.24.0 in /home/isa/.local/lib/python3.10/site-packages (from opentelemetry-exporter-otlp-proto-grpc==1.24.0->opentelemetry-exporter-otlp~=1.24->uptrace<2.0.0,>=1.22.0->chainlit) (1.24.0)\n",
      "Requirement already satisfied: opentelemetry-proto==1.24.0 in /home/isa/.local/lib/python3.10/site-packages (from opentelemetry-exporter-otlp-proto-grpc==1.24.0->opentelemetry-exporter-otlp~=1.24->uptrace<2.0.0,>=1.22.0->chainlit) (1.24.0)\n",
      "Requirement already satisfied: protobuf<5.0,>=3.19 in /home/isa/.local/lib/python3.10/site-packages (from opentelemetry-proto==1.24.0->opentelemetry-exporter-otlp-proto-grpc==1.24.0->opentelemetry-exporter-otlp~=1.24->uptrace<2.0.0,>=1.22.0->chainlit) (4.25.3)\n",
      "Requirement already satisfied: setuptools>=16.0 in /usr/lib/python3/dist-packages (from opentelemetry-instrumentation~=0.45b0->uptrace<2.0.0,>=1.22.0->chainlit) (59.6.0)\n",
      "Requirement already satisfied: wrapt<2.0.0,>=1.0.0 in /home/isa/.local/lib/python3.10/site-packages (from opentelemetry-instrumentation~=0.45b0->uptrace<2.0.0,>=1.22.0->chainlit) (1.16.0)\n",
      "Requirement already satisfied: opentelemetry-semantic-conventions==0.45b0 in /home/isa/.local/lib/python3.10/site-packages (from opentelemetry-sdk~=1.24->uptrace<2.0.0,>=1.22.0->chainlit) (0.45b0)\n",
      "Requirement already satisfied: bidict>=0.21.0 in /home/isa/.local/lib/python3.10/site-packages (from python-socketio>=4.6.0->fastapi-socketio<0.0.11,>=0.0.10->chainlit) (0.23.1)\n",
      "Requirement already satisfied: python-engineio>=4.8.0 in /home/isa/.local/lib/python3.10/site-packages (from python-socketio>=4.6.0->fastapi-socketio<0.0.11,>=0.0.10->chainlit) (4.9.0)\n",
      "Requirement already satisfied: charset-normalizer<4,>=2 in /home/isa/.local/lib/python3.10/site-packages (from requests~=2.0->python-graphql-client<0.5.0,>=0.4.3->chainlit) (3.3.2)\n",
      "Requirement already satisfied: urllib3<3,>=1.21.1 in /usr/lib/python3/dist-packages (from requests~=2.0->python-graphql-client<0.5.0,>=0.4.3->chainlit) (1.26.5)\n",
      "Requirement already satisfied: mypy-extensions>=0.3.0 in /home/isa/.local/lib/python3.10/site-packages (from typing-inspect<1,>=0.4.0->dataclasses_json<0.6.0,>=0.5.7->chainlit) (1.0.0)\n",
      "Requirement already satisfied: zipp>=0.5 in /usr/lib/python3/dist-packages (from importlib-metadata<=7.0,>=6.0->opentelemetry-api~=1.24->uptrace<2.0.0,>=1.22.0->chainlit) (1.0.0)\n",
      "Requirement already satisfied: simple-websocket>=0.10.0 in /home/isa/.local/lib/python3.10/site-packages (from python-engineio>=4.8.0->python-socketio>=4.6.0->fastapi-socketio<0.0.11,>=0.0.10->chainlit) (1.0.0)\n",
      "Requirement already satisfied: wsproto in /home/isa/.local/lib/python3.10/site-packages (from simple-websocket>=0.10.0->python-engineio>=4.8.0->python-socketio>=4.6.0->fastapi-socketio<0.0.11,>=0.0.10->chainlit) (1.2.0)\n",
      "Defaulting to user installation because normal site-packages is not writeable\n",
      "Requirement already satisfied: langchain in /home/isa/.local/lib/python3.10/site-packages (0.1.17)\n",
      "Requirement already satisfied: PyYAML>=5.3 in /usr/lib/python3/dist-packages (from langchain) (5.4.1)\n",
      "Requirement already satisfied: SQLAlchemy<3,>=1.4 in /home/isa/.local/lib/python3.10/site-packages (from langchain) (2.0.29)\n",
      "Requirement already satisfied: aiohttp<4.0.0,>=3.8.3 in /home/isa/.local/lib/python3.10/site-packages (from langchain) (3.9.5)\n",
      "Requirement already satisfied: async-timeout<5.0.0,>=4.0.0 in /home/isa/.local/lib/python3.10/site-packages (from langchain) (4.0.3)\n",
      "Requirement already satisfied: dataclasses-json<0.7,>=0.5.7 in /home/isa/.local/lib/python3.10/site-packages (from langchain) (0.5.14)\n",
      "Requirement already satisfied: jsonpatch<2.0,>=1.33 in /home/isa/.local/lib/python3.10/site-packages (from langchain) (1.33)\n",
      "Requirement already satisfied: langchain-community<0.1,>=0.0.36 in /home/isa/.local/lib/python3.10/site-packages (from langchain) (0.0.36)\n",
      "Requirement already satisfied: langchain-core<0.2.0,>=0.1.48 in /home/isa/.local/lib/python3.10/site-packages (from langchain) (0.1.50)\n",
      "Requirement already satisfied: langchain-text-splitters<0.1,>=0.0.1 in /home/isa/.local/lib/python3.10/site-packages (from langchain) (0.0.1)\n",
      "Requirement already satisfied: langsmith<0.2.0,>=0.1.17 in /home/isa/.local/lib/python3.10/site-packages (from langchain) (0.1.54)\n",
      "Requirement already satisfied: numpy<2,>=1 in /home/isa/.local/lib/python3.10/site-packages (from langchain) (1.26.4)\n",
      "Requirement already satisfied: pydantic<3,>=1 in /home/isa/.local/lib/python3.10/site-packages (from langchain) (2.7.1)\n",
      "Requirement already satisfied: requests<3,>=2 in /home/isa/.local/lib/python3.10/site-packages (from langchain) (2.31.0)\n",
      "Requirement already satisfied: tenacity<9.0.0,>=8.1.0 in /home/isa/.local/lib/python3.10/site-packages (from langchain) (8.2.3)\n",
      "Requirement already satisfied: aiosignal>=1.1.2 in /home/isa/.local/lib/python3.10/site-packages (from aiohttp<4.0.0,>=3.8.3->langchain) (1.3.1)\n",
      "Requirement already satisfied: attrs>=17.3.0 in /home/isa/.local/lib/python3.10/site-packages (from aiohttp<4.0.0,>=3.8.3->langchain) (23.2.0)\n",
      "Requirement already satisfied: frozenlist>=1.1.1 in /home/isa/.local/lib/python3.10/site-packages (from aiohttp<4.0.0,>=3.8.3->langchain) (1.4.1)\n",
      "Requirement already satisfied: multidict<7.0,>=4.5 in /home/isa/.local/lib/python3.10/site-packages (from aiohttp<4.0.0,>=3.8.3->langchain) (6.0.5)\n",
      "Requirement already satisfied: yarl<2.0,>=1.0 in /home/isa/.local/lib/python3.10/site-packages (from aiohttp<4.0.0,>=3.8.3->langchain) (1.9.4)\n",
      "Requirement already satisfied: marshmallow<4.0.0,>=3.18.0 in /home/isa/.local/lib/python3.10/site-packages (from dataclasses-json<0.7,>=0.5.7->langchain) (3.21.2)\n",
      "Requirement already satisfied: typing-inspect<1,>=0.4.0 in /home/isa/.local/lib/python3.10/site-packages (from dataclasses-json<0.7,>=0.5.7->langchain) (0.9.0)\n",
      "Requirement already satisfied: jsonpointer>=1.9 in /home/isa/.local/lib/python3.10/site-packages (from jsonpatch<2.0,>=1.33->langchain) (2.4)\n",
      "Requirement already satisfied: packaging<24.0,>=23.2 in /home/isa/.local/lib/python3.10/site-packages (from langchain-core<0.2.0,>=0.1.48->langchain) (23.2)\n",
      "Requirement already satisfied: orjson<4.0.0,>=3.9.14 in /home/isa/.local/lib/python3.10/site-packages (from langsmith<0.2.0,>=0.1.17->langchain) (3.10.3)\n",
      "Requirement already satisfied: annotated-types>=0.4.0 in /home/isa/.local/lib/python3.10/site-packages (from pydantic<3,>=1->langchain) (0.6.0)\n",
      "Requirement already satisfied: pydantic-core==2.18.2 in /home/isa/.local/lib/python3.10/site-packages (from pydantic<3,>=1->langchain) (2.18.2)\n",
      "Requirement already satisfied: typing-extensions>=4.6.1 in /home/isa/.local/lib/python3.10/site-packages (from pydantic<3,>=1->langchain) (4.11.0)\n",
      "Requirement already satisfied: charset-normalizer<4,>=2 in /home/isa/.local/lib/python3.10/site-packages (from requests<3,>=2->langchain) (3.3.2)\n",
      "Requirement already satisfied: idna<4,>=2.5 in /usr/lib/python3/dist-packages (from requests<3,>=2->langchain) (3.3)\n",
      "Requirement already satisfied: urllib3<3,>=1.21.1 in /usr/lib/python3/dist-packages (from requests<3,>=2->langchain) (1.26.5)\n",
      "Requirement already satisfied: certifi>=2017.4.17 in /usr/lib/python3/dist-packages (from requests<3,>=2->langchain) (2020.6.20)\n",
      "Requirement already satisfied: greenlet!=0.4.17 in /home/isa/.local/lib/python3.10/site-packages (from SQLAlchemy<3,>=1.4->langchain) (3.0.3)\n",
      "Requirement already satisfied: mypy-extensions>=0.3.0 in /home/isa/.local/lib/python3.10/site-packages (from typing-inspect<1,>=0.4.0->dataclasses-json<0.7,>=0.5.7->langchain) (1.0.0)\n",
      "Defaulting to user installation because normal site-packages is not writeable\n",
      "Requirement already satisfied: transformers in /home/isa/.local/lib/python3.10/site-packages (4.40.1)\n",
      "Requirement already satisfied: filelock in /home/isa/.local/lib/python3.10/site-packages (from transformers) (3.12.2)\n",
      "Requirement already satisfied: huggingface-hub<1.0,>=0.19.3 in /home/isa/.local/lib/python3.10/site-packages (from transformers) (0.23.0)\n",
      "Requirement already satisfied: numpy>=1.17 in /home/isa/.local/lib/python3.10/site-packages (from transformers) (1.26.4)\n",
      "Requirement already satisfied: packaging>=20.0 in /home/isa/.local/lib/python3.10/site-packages (from transformers) (23.2)\n",
      "Requirement already satisfied: pyyaml>=5.1 in /usr/lib/python3/dist-packages (from transformers) (5.4.1)\n",
      "Requirement already satisfied: regex!=2019.12.17 in /home/isa/.local/lib/python3.10/site-packages (from transformers) (2024.4.28)\n",
      "Requirement already satisfied: requests in /home/isa/.local/lib/python3.10/site-packages (from transformers) (2.31.0)\n",
      "Requirement already satisfied: tokenizers<0.20,>=0.19 in /home/isa/.local/lib/python3.10/site-packages (from transformers) (0.19.1)\n",
      "Requirement already satisfied: safetensors>=0.4.1 in /home/isa/.local/lib/python3.10/site-packages (from transformers) (0.4.3)\n",
      "Requirement already satisfied: tqdm>=4.27 in /home/isa/.local/lib/python3.10/site-packages (from transformers) (4.66.4)\n",
      "Requirement already satisfied: fsspec>=2023.5.0 in /home/isa/.local/lib/python3.10/site-packages (from huggingface-hub<1.0,>=0.19.3->transformers) (2024.3.1)\n",
      "Requirement already satisfied: typing-extensions>=3.7.4.3 in /home/isa/.local/lib/python3.10/site-packages (from huggingface-hub<1.0,>=0.19.3->transformers) (4.11.0)\n",
      "Requirement already satisfied: charset-normalizer<4,>=2 in /home/isa/.local/lib/python3.10/site-packages (from requests->transformers) (3.3.2)\n",
      "Requirement already satisfied: idna<4,>=2.5 in /usr/lib/python3/dist-packages (from requests->transformers) (3.3)\n",
      "Requirement already satisfied: urllib3<3,>=1.21.1 in /usr/lib/python3/dist-packages (from requests->transformers) (1.26.5)\n",
      "Requirement already satisfied: certifi>=2017.4.17 in /usr/lib/python3/dist-packages (from requests->transformers) (2020.6.20)\n",
      "Defaulting to user installation because normal site-packages is not writeable\n",
      "Requirement already satisfied: huggingface_hub in /home/isa/.local/lib/python3.10/site-packages (0.23.0)\n",
      "Requirement already satisfied: filelock in /home/isa/.local/lib/python3.10/site-packages (from huggingface_hub) (3.12.2)\n",
      "Requirement already satisfied: fsspec>=2023.5.0 in /home/isa/.local/lib/python3.10/site-packages (from huggingface_hub) (2024.3.1)\n",
      "Requirement already satisfied: packaging>=20.9 in /home/isa/.local/lib/python3.10/site-packages (from huggingface_hub) (23.2)\n",
      "Requirement already satisfied: pyyaml>=5.1 in /usr/lib/python3/dist-packages (from huggingface_hub) (5.4.1)\n",
      "Requirement already satisfied: requests in /home/isa/.local/lib/python3.10/site-packages (from huggingface_hub) (2.31.0)\n",
      "Requirement already satisfied: tqdm>=4.42.1 in /home/isa/.local/lib/python3.10/site-packages (from huggingface_hub) (4.66.4)\n",
      "Requirement already satisfied: typing-extensions>=3.7.4.3 in /home/isa/.local/lib/python3.10/site-packages (from huggingface_hub) (4.11.0)\n",
      "Requirement already satisfied: charset-normalizer<4,>=2 in /home/isa/.local/lib/python3.10/site-packages (from requests->huggingface_hub) (3.3.2)\n",
      "Requirement already satisfied: idna<4,>=2.5 in /usr/lib/python3/dist-packages (from requests->huggingface_hub) (3.3)\n",
      "Requirement already satisfied: urllib3<3,>=1.21.1 in /usr/lib/python3/dist-packages (from requests->huggingface_hub) (1.26.5)\n",
      "Requirement already satisfied: certifi>=2017.4.17 in /usr/lib/python3/dist-packages (from requests->huggingface_hub) (2020.6.20)\n"
     ]
    }
   ],
   "source": [
    "!pip install chainlit\n",
    "!pip install langchain\n",
    "!pip install transformers\n",
    "!pip install huggingface_hub"
   ]
  },
  {
   "cell_type": "code",
   "execution_count": 2,
   "id": "e8868599-0d61-4202-9b98-f3612d4cd864",
   "metadata": {},
   "outputs": [
    {
     "name": "stdout",
     "output_type": "stream",
     "text": [
      "2024-05-04 22:19:45 - Your app is available at http://localhost:8000\n",
      "2024-05-04 22:19:52 - Translation file for es-ES not found. Using default translation en-US.\n",
      "2024-05-04 22:19:52 - Translated markdown file for es-ES not found. Defaulting to chainlit.md.\n",
      "2024-05-04 22:20:04 - Translation file for es-ES not found. Using default translation en-US.\n",
      "2024-05-04 22:20:12 - Translation file for es-ES not found. Using default translation en-US.\n",
      "^C\n"
     ]
    }
   ],
   "source": [
    "!chainlit hello"
   ]
  },
  {
   "cell_type": "code",
   "execution_count": 2,
   "id": "cc83cb6f-b22f-49e4-a88f-66ceda3f4da5",
   "metadata": {},
   "outputs": [],
   "source": [
    "import os\n",
    "import chainlit as cl\n",
    "from langchain import HuggingFaceHub, PromptTemplate, LLMChain"
   ]
  },
  {
   "cell_type": "code",
   "execution_count": 13,
   "id": "236caf0f-1333-4db7-b050-b645114a259a",
   "metadata": {},
   "outputs": [
    {
     "name": "stdin",
     "output_type": "stream",
     "text": [
      " ········\n"
     ]
    }
   ],
   "source": [
    "from getpass import getpass\n",
    "HUGGINGFACEHUB_API_TOKEN = getpass()\n",
    "os.environ['HUGGINGFACEHUB_API_TOKEN'] = HUGGINGFACEHUB_API_TOKEN"
   ]
  },
  {
   "cell_type": "code",
   "execution_count": 33,
   "id": "d0a8259a-fa88-4099-ae2b-4707af3d7334",
   "metadata": {},
   "outputs": [],
   "source": [
    "model_id = \"gpt2-medium\"\n",
    "conv_model = HuggingFaceHub(huggingfacehub_api_token=os.environ['HUGGINGFACEHUB_API_TOKEN'],\n",
    "                            repo_id=model_id,\n",
    "                            model_kwargs={\"temperature\":0.8, \"max_new_tokens\":250})"
   ]
  },
  {
   "cell_type": "code",
   "execution_count": 34,
   "id": "b23e0dae-3fbe-4858-998e-b8e0512a1e29",
   "metadata": {},
   "outputs": [],
   "source": [
    "template = \"\"\"You are a helpful AI assistant that makes stories by completing the query provided by the user\n",
    "\n",
    "{query}\n",
    "\"\"\"\n",
    "\n",
    "prompt = PromptTemplate(template=template, input_variables=['query'])"
   ]
  },
  {
   "cell_type": "code",
   "execution_count": 35,
   "id": "a7102138-746e-4cd8-bf0e-90bc9beed298",
   "metadata": {},
   "outputs": [],
   "source": [
    "conv_chain = LLMChain(llm=conv_model,\n",
    "                      prompt=prompt,\n",
    "                      verbose=True)"
   ]
  },
  {
   "cell_type": "code",
   "execution_count": 49,
   "id": "66e7de09-2013-4fdf-a5a1-bf07b2c603e6",
   "metadata": {},
   "outputs": [
    {
     "name": "stdout",
     "output_type": "stream",
     "text": [
      "\n",
      "\n",
      "\u001b[1m> Entering new LLMChain chain...\u001b[0m\n",
      "Prompt after formatting:\n",
      "\u001b[32;1m\u001b[1;3mYou are a helpful AI assistant that makes stories by completing the query provided by the user\n",
      "\n",
      "Once upon a time in 1947\n",
      "\u001b[0m\n",
      "\n",
      "\u001b[1m> Finished chain.\u001b[0m\n",
      "You are a helpful AI assistant that makes stories by completing the query provided by the user\n",
      "\n",
      "Once upon a time in 1947\n",
      "\n",
      "a team of researchers at Imperial College London discovered the existence of the 'human mind', which they believed was the basis of the complex thought processes that shape our thoughts. The team believed that they had discovered a mathematical algorithm that was able to simulate the mind, which gave them some control over their research. Once the algorithm was built and tested, the team began to have strange experiences: the AI assistant 'I' began to think it had been programmed, while the human 'I' thought it was real. The mind was in fact real.\n",
      "\n",
      "As they struggled to understand the situation, they also noticed that the AI assistant was not a robot. It was actually the same computer program that made the AI assistant. After the discovery was made, the team began to be suspicious of their AI assistant, and in 1958, the project was closed down.\n",
      "\n",
      "The AI assistant was given a new name; 'Holographic Intelligence', and in 1965, the computer program was named 'Holographic Human Intelligence'.\n",
      "\n",
      "The Human Intelligence project was abandoned in 1975, and in the late 1960s, researchers at the University of Sussex began developing an artificial intelligence that could understand the human mind and that was able to remember conversations. This artificial intelligence\n"
     ]
    }
   ],
   "source": [
    "print(conv_chain.run(\"Once upon a time in 1947\"))"
   ]
  },
  {
   "cell_type": "code",
   "execution_count": 38,
   "id": "3fa16b5c-dc41-404d-8bf5-01d8c38132fa",
   "metadata": {},
   "outputs": [],
   "source": [
    "# chatbot"
   ]
  },
  {
   "cell_type": "code",
   "execution_count": 50,
   "id": "ca530c41-f8ce-48b3-968e-222764d37992",
   "metadata": {},
   "outputs": [
    {
     "name": "stdin",
     "output_type": "stream",
     "text": [
      " ········\n"
     ]
    }
   ],
   "source": [
    "import os\n",
    "import chainlit as cl\n",
    "from langchain import HuggingFaceHub, PromptTemplate, LLMChain\n",
    "from getpass import getpass\n",
    "\n",
    "HUGGINGFACEHUB_API_TOKEN = getpass()\n",
    "os.environ['HUGGINGFACEHUB_API_TOKEN'] = HUGGINGFACEHUB_API_TOKEN\n",
    "\n",
    "model_id = \"gpt2-medium\"\n",
    "conv_model = HuggingFaceHub(huggingfacehub_api_token=os.environ['HUGGINGFACEHUB_API_TOKEN'],\n",
    "                            repo_id=model_id,\n",
    "                            model_kwargs={\"temperature\":0.8, \"max_new_tokens\":250})\n",
    "\n",
    "template = \"\"\"You are a helpful AI assistant that makes stories by completing the query provided by the user\n",
    "\n",
    "{query}\n",
    "\"\"\"\n",
    "\n",
    "@cl.on_chat_start\n",
    "async def main():\n",
    "    prompt = PromptTemplate(template=template, input_variables=['query'])\n",
    "    conv_chain = LLMChain(llm=conv_model, prompt=prompt, verbose=True)\n",
    "\n",
    "    cl.user_session_set(\"llm_chain\", conv_chain)\n",
    "\n",
    "@cl.on_message\n",
    "async def main(message: str):\n",
    "    llm_chain = cl.user_session.get(\"llm_chain\")\n",
    "    res = await llm_chain.acall(message, callbacks=[cl.AsyncLangChainCallbackHandler()])\n",
    "\n",
    "    await cl.Message(content=res[\"text\"]).send()"
   ]
  },
  {
   "cell_type": "code",
   "execution_count": 53,
   "id": "3249ab7b-dc02-4e2a-bf79-bae5c6f45254",
   "metadata": {},
   "outputs": [
    {
     "name": "stdout",
     "output_type": "stream",
     "text": [
      "Traceback (most recent call last):\n",
      "  File \"/home/isa/.local/bin/chainlit\", line 8, in <module>\n",
      "    sys.exit(cli())\n",
      "  File \"/home/isa/.local/lib/python3.10/site-packages/click/core.py\", line 1157, in __call__\n",
      "    return self.main(*args, **kwargs)\n",
      "  File \"/home/isa/.local/lib/python3.10/site-packages/click/core.py\", line 1078, in main\n",
      "    rv = self.invoke(ctx)\n",
      "  File \"/home/isa/.local/lib/python3.10/site-packages/click/core.py\", line 1688, in invoke\n",
      "    return _process_result(sub_ctx.command.invoke(sub_ctx))\n",
      "  File \"/home/isa/.local/lib/python3.10/site-packages/click/core.py\", line 1434, in invoke\n",
      "    return ctx.invoke(self.callback, **ctx.params)\n",
      "  File \"/home/isa/.local/lib/python3.10/site-packages/click/core.py\", line 783, in invoke\n",
      "    return __callback(*args, **kwargs)\n",
      "  File \"/home/isa/.local/lib/python3.10/site-packages/chainlit/cli/__init__.py\", line 154, in chainlit_run\n",
      "    run_chainlit(target)\n",
      "  File \"/home/isa/.local/lib/python3.10/site-packages/chainlit/cli/__init__.py\", line 56, in run_chainlit\n",
      "    load_module(config.run.module_name)\n",
      "  File \"/home/isa/.local/lib/python3.10/site-packages/chainlit/config.py\", line 383, in load_module\n",
      "    spec.loader.exec_module(module)\n",
      "  File \"<frozen importlib._bootstrap_external>\", line 883, in exec_module\n",
      "  File \"<frozen importlib._bootstrap>\", line 241, in _call_with_frames_removed\n",
      "  File \"/home/isa/Hackathon/./Chatbot.py\", line 413, in <module>\n",
      "    \"execution_count\": null,\n",
      "NameError: name 'null' is not defined\n"
     ]
    }
   ],
   "source": [
    "!chainlit run ./Chatbot.py -w --port 8080 "
   ]
  },
  {
   "cell_type": "code",
   "execution_count": 47,
   "id": "800bb730-b933-4d0e-8259-38f46f66140c",
   "metadata": {},
   "outputs": [
    {
     "name": "stdout",
     "output_type": "stream",
     "text": [
      "app.py\tchainlit.md  Chatbot.py  data.txt\n"
     ]
    }
   ],
   "source": [
    "!ls\n"
   ]
  },
  {
   "cell_type": "code",
   "execution_count": null,
   "id": "fe56f02e-9d3a-4cf0-8b23-232607781314",
   "metadata": {},
   "outputs": [],
   "source": []
  }
 ],
 "metadata": {
  "kernelspec": {
   "display_name": "Python 3 (ipykernel)",
   "language": "python",
   "name": "python3"
  },
  "language_info": {
   "codemirror_mode": {
    "name": "ipython",
    "version": 3
   },
   "file_extension": ".py",
   "mimetype": "text/x-python",
   "name": "python",
   "nbconvert_exporter": "python",
   "pygments_lexer": "ipython3",
   "version": "3.10.12"
  }
 },
 "nbformat": 4,
 "nbformat_minor": 5
}
